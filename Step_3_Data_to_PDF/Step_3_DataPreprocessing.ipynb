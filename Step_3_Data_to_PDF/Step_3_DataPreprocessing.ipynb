{
 "cells": [
  {
   "cell_type": "code",
   "execution_count": null,
   "id": "4c291c80-bc86-4d50-bb47-8c9e3db7e2dc",
   "metadata": {},
   "outputs": [],
   "source": [
    "from reportlab.pdfgen import canvas\n",
    "from reportlab.lib.pagesizes import letter\n",
    "import PyPDF2\n",
    "import os\n",
    "import pickle\n",
    "import pandas as pd\n",
    "import spacy\n",
    "import re\n",
    "from collections import defaultdict\n",
    "from time import time\n",
    "import numpy as np\n",
    "from sklearn import metrics\n",
    "from time import time\n",
    "import numpy as np\n",
    "from sklearn import metrics\n",
    "from reportlab.lib.pagesizes import letter\n",
    "from reportlab.pdfgen import canvas\n",
    "from reportlab.lib import colors"
   ]
  },
  {
   "cell_type": "markdown",
   "id": "f8d8310c-378c-4ffa-89d1-3eff448a2095",
   "metadata": {},
   "source": [
    "# Step 3: Data Processing to PDF\n",
    "\n",
    "In this example, I wanted to narrow the focus to look at 10-K disclosures from 2023 - Utility Sector"
   ]
  },
  {
   "cell_type": "code",
   "execution_count": null,
   "id": "7a7ba75d-8470-403a-b76c-114b04ea2d9f",
   "metadata": {},
   "outputs": [],
   "source": [
    "# Load the serialized data from the pickle file\n",
    "with open('Cleaned_US_Item1_1A.pkl', 'rb') as f:\n",
    "    documents_info = pickle.load(f)\n",
    "\n",
    "# Create a DataFrame from the documents_info list\n",
    "Cleaned_US_Item1_1A = pd.DataFrame(documents_info)\n"
   ]
  },
  {
   "cell_type": "code",
   "execution_count": null,
   "id": "2a0e56f1-c466-4588-b2af-3ca770d02d74",
   "metadata": {},
   "outputs": [],
   "source": [
    "def preprocess_text(text):\n",
    "    return ' '.join(text.split())"
   ]
  },
  {
   "cell_type": "code",
   "execution_count": null,
   "id": "dc41c167-5b45-4b7b-9b79-e305c2bc4779",
   "metadata": {},
   "outputs": [],
   "source": [
    "unique_utility_df = df_2023[df_2023['sector'] == 'Utilities']"
   ]
  },
  {
   "cell_type": "code",
   "execution_count": null,
   "id": "39a1c457-b10b-4759-a2f2-1c5e03fab445",
   "metadata": {},
   "outputs": [],
   "source": [
    "def draw_metadata(c, metadata, width, height):\n",
    "    \"\"\"Draws metadata at the top of each page.\"\"\"\n",
    "    c.setFont(\"Helvetica\", 12)\n",
    "    c.drawString(72, height - 50, f\"Ticker: {metadata['ticker']}, Sector: {metadata['sector']}, Filed At: {metadata['filedAt']}\")\n",
    "\n",
    "def add_text_to_page(c, text, metadata, width, height):\n",
    "    \"\"\"Adds text to a page ensuring metadata is drawn first and proper spacing is maintained.\"\"\"\n",
    "    draw_metadata(c, metadata, width, height)\n",
    "    text_object = c.beginText(72, height - 100)  # Adjusted to leave space below the metadata\n",
    "    text_object.setFont(\"Helvetica\", 10)\n",
    "    for line in text.split():\n",
    "        line = preprocess_text(line)  # Preprocess each line if necessary\n",
    "        if text_object.getX() + c.stringWidth(line) > width - 72:\n",
    "            text_object.textLine()  # Move to next line if text exceeds the page width\n",
    "        if text_object.getY() < 100:  # Check if we're near the bottom of the page\n",
    "            c.drawText(text_object)  # Draw the text collected so far\n",
    "            c.showPage()  # Start a new page\n",
    "            draw_metadata(c, metadata, width, height)  # Redraw metadata at top of the new page\n",
    "            text_object = c.beginText(72, height - 100)\n",
    "        text_object.textOut(line + \" \")  # Add space between words\n",
    "    c.drawText(text_object)  # Make sure to draw any remaining text\n",
    "    c.showPage()  # Ensure a new page is started after finishing each company's text\n",
    "\n",
    "def create_pdf(df, filename):\n",
    "    \"\"\"Creates a PDF file with each entry separated onto a new page with metadata at the top.\"\"\"\n",
    "    c = canvas.Canvas(filename, pagesize=letter)\n",
    "    width, height = letter\n",
    "    for index, row in df.iterrows():\n",
    "        metadata = {'ticker': row['ticker'], 'sector': row['sector'], 'filedAt': row['filedAt']}\n",
    "        add_text_to_page(c, row['text'], metadata, width, height)\n",
    "    c.save()\n",
    "    print(f\"PDF saved as {filename}\")\n",
    "\n",
    "create_pdf(df=unique_utility_df, filename='utility.pdf')"
   ]
  }
 ],
 "metadata": {
  "kernelspec": {
   "display_name": "Python 3 (ipykernel)",
   "language": "python",
   "name": "python3"
  },
  "language_info": {
   "codemirror_mode": {
    "name": "ipython",
    "version": 3
   },
   "file_extension": ".py",
   "mimetype": "text/x-python",
   "name": "python",
   "nbconvert_exporter": "python",
   "pygments_lexer": "ipython3",
   "version": "3.9.18"
  }
 },
 "nbformat": 4,
 "nbformat_minor": 5
}
